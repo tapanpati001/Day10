{
 "cells": [
  {
   "cell_type": "code",
   "execution_count": 1,
   "id": "45244591-7b19-4376-9f86-aefd3c464565",
   "metadata": {},
   "outputs": [],
   "source": [
    "f=open(\"text.txt\",\"w\")"
   ]
  },
  {
   "cell_type": "code",
   "execution_count": 7,
   "id": "0d2a4104-cece-40a1-ab08-f032fed4a6cd",
   "metadata": {},
   "outputs": [
    {
     "data": {
      "text/plain": [
       "'/home/jovyan/work'"
      ]
     },
     "execution_count": 7,
     "metadata": {},
     "output_type": "execute_result"
    }
   ],
   "source": [
    "pwd"
   ]
  },
  {
   "cell_type": "code",
   "execution_count": 8,
   "id": "6cae00af-874e-4c7c-b6b2-7168fd8dd362",
   "metadata": {},
   "outputs": [
    {
     "name": "stdout",
     "output_type": "stream",
     "text": [
      "argskrgs.ipynb      class2.ipynb             polymorphism.ipynb\n",
      "Assignment10.ipynb  class3.ipynb             pythonbasic.ipynb\n",
      "Assignment1.ipynb   class4.ipynb             quiz1.ipynb\n",
      "Assignment3.ipynb   classmethod.ipynb        quiz.ipynb\n",
      "Assignment4.ipynb   compression.ipynb        README.md\n",
      "Assignment5.ipynb   decorator.ipynb          sample-code.ipynb\n",
      "Assignment6.ipynb   Encapsulation.ipynb      setterandgetter.ipynb\n",
      "Assignment7.ipynb   generator.ipynb          static.ipynb\n",
      "Assignment8.ipynb   Inheritance.ipynb        text.txt\n",
      "Assignment9.ipynb   lambda.ipynb             while.ipynb\n",
      "Assignment.ipynb    magicdundermethod.ipynb  workingwithfiles.ipynb\n",
      "class11.ipynb       mapreducefilter.ipynb\n"
     ]
    }
   ],
   "source": [
    "ls"
   ]
  },
  {
   "cell_type": "code",
   "execution_count": 9,
   "id": "9ab4766a-d662-4a59-8b17-c2cd9f24ef2c",
   "metadata": {},
   "outputs": [
    {
     "data": {
      "text/plain": [
       "30"
      ]
     },
     "execution_count": 9,
     "metadata": {},
     "output_type": "execute_result"
    }
   ],
   "source": [
    "f.write(\"this is my first file to write\")"
   ]
  },
  {
   "cell_type": "code",
   "execution_count": 12,
   "id": "a92121a4-bb95-4149-88a4-ea8e97fd3f78",
   "metadata": {},
   "outputs": [],
   "source": [
    "f.close()"
   ]
  },
  {
   "cell_type": "code",
   "execution_count": 17,
   "id": "94947d82-e396-4c36-9e5b-5f7e72576995",
   "metadata": {},
   "outputs": [],
   "source": [
    "f=open(\"text.txt\",\"w\")"
   ]
  },
  {
   "cell_type": "code",
   "execution_count": 18,
   "id": "524ed60c-d1c9-408e-91ae-a3c645ef52c8",
   "metadata": {},
   "outputs": [
    {
     "data": {
      "text/plain": [
       "23"
      ]
     },
     "execution_count": 18,
     "metadata": {},
     "output_type": "execute_result"
    }
   ],
   "source": [
    "f.write(\"this is my second file \")"
   ]
  },
  {
   "cell_type": "code",
   "execution_count": 19,
   "id": "8634b576-962f-4999-8716-d8478862b7b4",
   "metadata": {},
   "outputs": [],
   "source": [
    "f.close()"
   ]
  },
  {
   "cell_type": "code",
   "execution_count": 20,
   "id": "43d1625d-1706-4c8b-b64c-c20d8d7692c9",
   "metadata": {},
   "outputs": [],
   "source": [
    "f=open(\"text.txt\",\"a\")"
   ]
  },
  {
   "cell_type": "code",
   "execution_count": 28,
   "id": "f5830c95-518b-4281-8349-aa18690507b1",
   "metadata": {},
   "outputs": [
    {
     "ename": "UnsupportedOperation",
     "evalue": "not writable",
     "output_type": "error",
     "traceback": [
      "\u001b[0;31m---------------------------------------------------------------------------\u001b[0m",
      "\u001b[0;31mUnsupportedOperation\u001b[0m                      Traceback (most recent call last)",
      "Cell \u001b[0;32mIn[28], line 1\u001b[0m\n\u001b[0;32m----> 1\u001b[0m \u001b[43mf\u001b[49m\u001b[38;5;241;43m.\u001b[39;49m\u001b[43mwrite\u001b[49m\u001b[43m(\u001b[49m\u001b[38;5;124;43m\"\u001b[39;49m\u001b[38;5;124;43mdata science masters \u001b[39;49m\u001b[38;5;124;43m\"\u001b[39;49m\u001b[43m)\u001b[49m\n",
      "\u001b[0;31mUnsupportedOperation\u001b[0m: not writable"
     ]
    }
   ],
   "source": [
    "f.write(\"data science masters \")"
   ]
  },
  {
   "cell_type": "code",
   "execution_count": 23,
   "id": "6d3d54ca-2c9d-433f-9e64-a4c296007f0b",
   "metadata": {},
   "outputs": [],
   "source": [
    "f.close()"
   ]
  },
  {
   "cell_type": "code",
   "execution_count": 24,
   "id": "e4383015-5c4b-462e-8efb-7b3a833f4552",
   "metadata": {},
   "outputs": [],
   "source": [
    "f=open(\"text.txt\",\"r\")"
   ]
  },
  {
   "cell_type": "code",
   "execution_count": 25,
   "id": "6f7770fe-f2e7-46d4-af46-92b030634715",
   "metadata": {},
   "outputs": [
    {
     "data": {
      "text/plain": [
       "'this is my second file data science mastrers hindi'"
      ]
     },
     "execution_count": 25,
     "metadata": {},
     "output_type": "execute_result"
    }
   ],
   "source": [
    "f.read()"
   ]
  },
  {
   "cell_type": "code",
   "execution_count": 29,
   "id": "2177d9be-f488-4883-b905-c328e3ef3244",
   "metadata": {},
   "outputs": [],
   "source": [
    "f=open(\"text.txt\",\"a\")"
   ]
  },
  {
   "cell_type": "code",
   "execution_count": 30,
   "id": "8add9884-cf0c-47b0-9804-e859f22ec4f8",
   "metadata": {},
   "outputs": [
    {
     "data": {
      "text/plain": [
       "361"
      ]
     },
     "execution_count": 30,
     "metadata": {},
     "output_type": "execute_result"
    }
   ],
   "source": [
    "f.write(\"There have been many innovations in the healthcare industry since the outbreak of covid in 2019. The use of data in the healthcare industry has helped healthcare professionals get more accurate information about the medical conditions of patients. In this article, I will take you through the use of data science in the healthcare industry that you should know.\")"
   ]
  },
  {
   "cell_type": "code",
   "execution_count": 31,
   "id": "e5b6e330-2183-4897-8e00-60e0a5e3ab9b",
   "metadata": {},
   "outputs": [],
   "source": [
    "f.close()"
   ]
  },
  {
   "cell_type": "code",
   "execution_count": 42,
   "id": "6431c5b7-0683-4562-83cc-856b1f604839",
   "metadata": {},
   "outputs": [],
   "source": [
    "data =open(\"text.txt\",\"r\")"
   ]
  },
  {
   "cell_type": "code",
   "execution_count": 43,
   "id": "57d120cc-b75e-45c0-8fd2-2d74633fc328",
   "metadata": {},
   "outputs": [
    {
     "data": {
      "text/plain": [
       "'this is my second file data science mastrers hindiThere have been many innovations in the healthcare industry since the outbreak of covid in 2019. The use of data in the healthcare industry has helped healthcare professionals get more accurate information about the medical conditions of patients. In this article, I will take you through the use of data science in the healthcare industry that you should know.data science masters There have been many innovations in the healthcare industry since the outbreak of covid in 2019. The use of data in the healthcare industry has helped healthcare professionals get more accurate information about the medical conditions of patients. In this article, I will take you through the use of data science in the healthcare industry that you should know.'"
      ]
     },
     "execution_count": 43,
     "metadata": {},
     "output_type": "execute_result"
    }
   ],
   "source": [
    "data.read()"
   ]
  },
  {
   "cell_type": "code",
   "execution_count": 44,
   "id": "dd3e42db-1871-4229-a0fb-8ce7d443291b",
   "metadata": {},
   "outputs": [
    {
     "data": {
      "text/plain": [
       "''"
      ]
     },
     "execution_count": 44,
     "metadata": {},
     "output_type": "execute_result"
    }
   ],
   "source": [
    "data.readline()"
   ]
  },
  {
   "cell_type": "code",
   "execution_count": 45,
   "id": "79d93579-b682-48d3-bd7c-338810e2c6e7",
   "metadata": {},
   "outputs": [
    {
     "data": {
      "text/plain": [
       "0"
      ]
     },
     "execution_count": 45,
     "metadata": {},
     "output_type": "execute_result"
    }
   ],
   "source": [
    "data.seek(0)"
   ]
  },
  {
   "cell_type": "code",
   "execution_count": 46,
   "id": "df554d59-edd4-40b1-ba4e-429bef100ea8",
   "metadata": {},
   "outputs": [
    {
     "data": {
      "text/plain": [
       "'this is my second file data science mastrers hindiThere have been many innovations in the healthcare industry since the outbreak of covid in 2019. The use of data in the healthcare industry has helped healthcare professionals get more accurate information about the medical conditions of patients. In this article, I will take you through the use of data science in the healthcare industry that you should know.data science masters There have been many innovations in the healthcare industry since the outbreak of covid in 2019. The use of data in the healthcare industry has helped healthcare professionals get more accurate information about the medical conditions of patients. In this article, I will take you through the use of data science in the healthcare industry that you should know.'"
      ]
     },
     "execution_count": 46,
     "metadata": {},
     "output_type": "execute_result"
    }
   ],
   "source": [
    "data.readline()"
   ]
  },
  {
   "cell_type": "code",
   "execution_count": 47,
   "id": "6019fd51-a4af-4b0a-a988-3c81595484d8",
   "metadata": {},
   "outputs": [
    {
     "data": {
      "text/plain": [
       "10"
      ]
     },
     "execution_count": 47,
     "metadata": {},
     "output_type": "execute_result"
    }
   ],
   "source": [
    "data.seek(10)"
   ]
  },
  {
   "cell_type": "code",
   "execution_count": 48,
   "id": "5c591e97-c79e-491d-b23c-93524dd47814",
   "metadata": {},
   "outputs": [
    {
     "data": {
      "text/plain": [
       "' second file data science mastrers hindiThere have been many innovations in the healthcare industry since the outbreak of covid in 2019. The use of data in the healthcare industry has helped healthcare professionals get more accurate information about the medical conditions of patients. In this article, I will take you through the use of data science in the healthcare industry that you should know.data science masters There have been many innovations in the healthcare industry since the outbreak of covid in 2019. The use of data in the healthcare industry has helped healthcare professionals get more accurate information about the medical conditions of patients. In this article, I will take you through the use of data science in the healthcare industry that you should know.'"
      ]
     },
     "execution_count": 48,
     "metadata": {},
     "output_type": "execute_result"
    }
   ],
   "source": [
    "data.readline()"
   ]
  },
  {
   "cell_type": "code",
   "execution_count": 49,
   "id": "61d4f211-8db1-474a-81ac-334721cc85dd",
   "metadata": {},
   "outputs": [],
   "source": [
    "data1=open(\"text.txt\",\"r\")"
   ]
  },
  {
   "cell_type": "code",
   "execution_count": 50,
   "id": "05d924a0-954d-499b-b841-0f080b56456d",
   "metadata": {},
   "outputs": [
    {
     "name": "stdout",
     "output_type": "stream",
     "text": [
      "this is my second file data science mastrers hindiThere have been many innovations in the healthcare industry since the outbreak of covid in 2019. The use of data in the healthcare industry has helped healthcare professionals get more accurate information about the medical conditions of patients. In this article, I will take you through the use of data science in the healthcare industry that you should know.data science masters There have been many innovations in the healthcare industry since the outbreak of covid in 2019. The use of data in the healthcare industry has helped healthcare professionals get more accurate information about the medical conditions of patients. In this article, I will take you through the use of data science in the healthcare industry that you should know.\n"
     ]
    }
   ],
   "source": [
    "for i in data1:\n",
    "    print(i)"
   ]
  },
  {
   "cell_type": "code",
   "execution_count": 51,
   "id": "6fb926e1-e326-4999-a612-b8a25ed919a1",
   "metadata": {},
   "outputs": [],
   "source": [
    "import os"
   ]
  },
  {
   "cell_type": "code",
   "execution_count": 52,
   "id": "5ebb7a3b-adf8-441a-bdc2-351fdc760da8",
   "metadata": {},
   "outputs": [
    {
     "data": {
      "text/plain": [
       "793"
      ]
     },
     "execution_count": 52,
     "metadata": {},
     "output_type": "execute_result"
    }
   ],
   "source": [
    "os.path.getsize(\"text.txt\")"
   ]
  },
  {
   "cell_type": "code",
   "execution_count": 53,
   "id": "205a68cb-aeb1-4299-9509-2a419e859c9a",
   "metadata": {},
   "outputs": [],
   "source": [
    "os.remove(\"text.txt\")"
   ]
  },
  {
   "cell_type": "code",
   "execution_count": 54,
   "id": "36db3a14-a42b-40b3-824d-97033145a446",
   "metadata": {},
   "outputs": [],
   "source": [
    "f=open(\"text1.txt\",\"w\")"
   ]
  },
  {
   "cell_type": "code",
   "execution_count": 55,
   "id": "811306b7-6d24-490f-ba4a-9ca1ca51861a",
   "metadata": {},
   "outputs": [
    {
     "data": {
      "text/plain": [
       "793"
      ]
     },
     "execution_count": 55,
     "metadata": {},
     "output_type": "execute_result"
    }
   ],
   "source": [
    "f.write(\"this is my second file data science mastrers hindiThere have been many innovations in the healthcare industry since the outbreak of covid in 2019. The use of data in the healthcare industry has helped healthcare professionals get more accurate information about the medical conditions of patients. In this article, I will take you through the use of data science in the healthcare industry that you should know.data science masters There have been many innovations in the healthcare industry since the outbreak of covid in 2019. The use of data in the healthcare industry has helped healthcare professionals get more accurate information about the medical conditions of patients. In this article, I will take you through the use of data science in the healthcare industry that you should know.\")"
   ]
  },
  {
   "cell_type": "code",
   "execution_count": 56,
   "id": "364f1afb-6a43-4d23-b560-4982473d23d2",
   "metadata": {},
   "outputs": [],
   "source": [
    "f.close()"
   ]
  },
  {
   "cell_type": "code",
   "execution_count": 57,
   "id": "f92fbd12-7505-43d4-9d8a-7590492837f3",
   "metadata": {},
   "outputs": [],
   "source": [
    "os.rename(\"text1.txt\",\"newtext.txt\")"
   ]
  },
  {
   "cell_type": "code",
   "execution_count": 59,
   "id": "f297085e-bead-40d2-9f03-e7aa55f426af",
   "metadata": {},
   "outputs": [],
   "source": [
    "import shutil"
   ]
  },
  {
   "cell_type": "code",
   "execution_count": 60,
   "id": "c42a29cd-7f48-4e2d-b17c-b0dff914356e",
   "metadata": {},
   "outputs": [
    {
     "data": {
      "text/plain": [
       "'copy_newtext.txt'"
      ]
     },
     "execution_count": 60,
     "metadata": {},
     "output_type": "execute_result"
    }
   ],
   "source": [
    "shutil.copy(\"newtext.txt\",\"copy_newtext.txt\")"
   ]
  },
  {
   "cell_type": "code",
   "execution_count": 61,
   "id": "9608ea14-5613-4f28-b995-3862e0a694b7",
   "metadata": {},
   "outputs": [
    {
     "name": "stdout",
     "output_type": "stream",
     "text": [
      "this is my second file data science mastrers hindiThere have been many innovations in the healthcare industry since the outbreak of covid in 2019. The use of data in the healthcare industry has helped healthcare professionals get more accurate information about the medical conditions of patients. In this article, I will take you through the use of data science in the healthcare industry that you should know.data science masters There have been many innovations in the healthcare industry since the outbreak of covid in 2019. The use of data in the healthcare industry has helped healthcare professionals get more accurate information about the medical conditions of patients. In this article, I will take you through the use of data science in the healthcare industry that you should know.\n"
     ]
    }
   ],
   "source": [
    "with open(\"newtext.txt\",\"r\") as f:\n",
    "    print(f.read())"
   ]
  },
  {
   "cell_type": "code",
   "execution_count": null,
   "id": "3f3aeafd-6818-452b-83bf-c83eee0f34ff",
   "metadata": {},
   "outputs": [],
   "source": []
  }
 ],
 "metadata": {
  "kernelspec": {
   "display_name": "Python 3 (ipykernel)",
   "language": "python",
   "name": "python3"
  },
  "language_info": {
   "codemirror_mode": {
    "name": "ipython",
    "version": 3
   },
   "file_extension": ".py",
   "mimetype": "text/x-python",
   "name": "python",
   "nbconvert_exporter": "python",
   "pygments_lexer": "ipython3",
   "version": "3.10.8"
  }
 },
 "nbformat": 4,
 "nbformat_minor": 5
}
